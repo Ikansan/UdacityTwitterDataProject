{
 "cells": [
  {
   "cell_type": "markdown",
   "metadata": {},
   "source": [
    "## Reporting: wragle_report\n",
    "* Create a **300-600 word written report** called \"wrangle_report.pdf\" or \"wrangle_report.html\" that briefly describes your wrangling efforts. This is to be framed as an internal document."
   ]
  },
  {
   "cell_type": "markdown",
   "metadata": {},
   "source": [
    "Data were gathered from different sources, assessed, cleaned and visualsed for insights. Below are three insights gathered from the data.\n",
    "### Sources of data: The data were gathered from three sources:\n",
    "1. twitter_archive(twitter-archive-enhanced.csv)\n",
    "2. image prediction(https://d17h27t6h515a5.cloudfront.net/topher/2017/August/599fd2ad_image-predictions/image-predictions.tsv)\n",
    "3. Twitter API.\n",
    "\n",
    "### Data assessment:\n",
    "A number of issues were identified for assessment. They include:\n",
    "\n",
    "### Quality issues\n",
    "1. Incorrect dog name\n",
    "\n",
    "2. Remove retweet rows\n",
    "\n",
    "3. Drop the columns not needed\n",
    "\n",
    "4. Incorrect tweet_id datatype\n",
    "\n",
    "5. Incorrect datetime format for timestamp\n",
    "\n",
    "6. Inaccurate datatype for rating_numerator and rating_denominator\n",
    "\n",
    "7. Inconsistent dog breed names capitalisation\n",
    "\n",
    "8. Drop duplicate values from jpg_url\n",
    "\n",
    "9. Replace the urls in the source column by the source name\n",
    "\n",
    "### Tidiness issues\n",
    "1. Merge all three datasets together\n",
    "\n",
    "2. All dog types should be in the same column\n",
    "\n",
    "3. Create a column for dog breeds\n",
    "\n",
    "### Cleaning Data\n",
    "After identifying the quality and tidiness issues stated above, the gathered data were cleaned, first by defining what the issues are followed by writing the code to clean the data and lastly testing to see that the data is cleaned.\n",
    "\n",
    "### Storing data\n",
    "After cleaning the data, it is then stored as twitter_archive_master.csv. This was the final stage before the analysis and visualisation of the data"
   ]
  }
 ],
 "metadata": {
  "kernelspec": {
   "display_name": "Python 3",
   "language": "python",
   "name": "python3"
  },
  "language_info": {
   "codemirror_mode": {
    "name": "ipython",
    "version": 3
   },
   "file_extension": ".py",
   "mimetype": "text/x-python",
   "name": "python",
   "nbconvert_exporter": "python",
   "pygments_lexer": "ipython3",
   "version": "3.6.3"
  }
 },
 "nbformat": 4,
 "nbformat_minor": 2
}
